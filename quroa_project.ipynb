{
 "cells": [
  {
   "cell_type": "code",
   "execution_count": 1,
   "metadata": {},
   "outputs": [
    {
     "name": "stdout",
     "output_type": "stream",
     "text": [
      "quora_test_clean.csv\n",
      "quora_train_clean.csv\n",
      "test.csv\n",
      "test.csv.zip\n",
      "train.csv\n",
      "train.csv.zip\n",
      "\n"
     ]
    },
    {
     "data": {
      "text/html": [
       "<div>\n",
       "<style scoped>\n",
       "    .dataframe tbody tr th:only-of-type {\n",
       "        vertical-align: middle;\n",
       "    }\n",
       "\n",
       "    .dataframe tbody tr th {\n",
       "        vertical-align: top;\n",
       "    }\n",
       "\n",
       "    .dataframe thead th {\n",
       "        text-align: right;\n",
       "    }\n",
       "</style>\n",
       "<table border=\"1\" class=\"dataframe\">\n",
       "  <thead>\n",
       "    <tr style=\"text-align: right;\">\n",
       "      <th></th>\n",
       "      <th>id</th>\n",
       "      <th>qid1</th>\n",
       "      <th>qid2</th>\n",
       "      <th>question1</th>\n",
       "      <th>question2</th>\n",
       "      <th>is_duplicate</th>\n",
       "    </tr>\n",
       "  </thead>\n",
       "  <tbody>\n",
       "    <tr>\n",
       "      <th>0</th>\n",
       "      <td>0</td>\n",
       "      <td>1</td>\n",
       "      <td>2</td>\n",
       "      <td>What is the step by step guide to invest in sh...</td>\n",
       "      <td>What is the step by step guide to invest in sh...</td>\n",
       "      <td>0</td>\n",
       "    </tr>\n",
       "    <tr>\n",
       "      <th>1</th>\n",
       "      <td>1</td>\n",
       "      <td>3</td>\n",
       "      <td>4</td>\n",
       "      <td>What is the story of Kohinoor (Koh-i-Noor) Dia...</td>\n",
       "      <td>What would happen if the Indian government sto...</td>\n",
       "      <td>0</td>\n",
       "    </tr>\n",
       "    <tr>\n",
       "      <th>2</th>\n",
       "      <td>2</td>\n",
       "      <td>5</td>\n",
       "      <td>6</td>\n",
       "      <td>How can I increase the speed of my internet co...</td>\n",
       "      <td>How can Internet speed be increased by hacking...</td>\n",
       "      <td>0</td>\n",
       "    </tr>\n",
       "    <tr>\n",
       "      <th>3</th>\n",
       "      <td>3</td>\n",
       "      <td>7</td>\n",
       "      <td>8</td>\n",
       "      <td>Why am I mentally very lonely? How can I solve...</td>\n",
       "      <td>Find the remainder when [math]23^{24}[/math] i...</td>\n",
       "      <td>0</td>\n",
       "    </tr>\n",
       "    <tr>\n",
       "      <th>4</th>\n",
       "      <td>4</td>\n",
       "      <td>9</td>\n",
       "      <td>10</td>\n",
       "      <td>Which one dissolve in water quikly sugar, salt...</td>\n",
       "      <td>Which fish would survive in salt water?</td>\n",
       "      <td>0</td>\n",
       "    </tr>\n",
       "  </tbody>\n",
       "</table>\n",
       "</div>"
      ],
      "text/plain": [
       "   id  qid1  qid2                                          question1  \\\n",
       "0   0     1     2  What is the step by step guide to invest in sh...   \n",
       "1   1     3     4  What is the story of Kohinoor (Koh-i-Noor) Dia...   \n",
       "2   2     5     6  How can I increase the speed of my internet co...   \n",
       "3   3     7     8  Why am I mentally very lonely? How can I solve...   \n",
       "4   4     9    10  Which one dissolve in water quikly sugar, salt...   \n",
       "\n",
       "                                           question2  is_duplicate  \n",
       "0  What is the step by step guide to invest in sh...             0  \n",
       "1  What would happen if the Indian government sto...             0  \n",
       "2  How can Internet speed be increased by hacking...             0  \n",
       "3  Find the remainder when [math]23^{24}[/math] i...             0  \n",
       "4            Which fish would survive in salt water?             0  "
      ]
     },
     "execution_count": 1,
     "metadata": {},
     "output_type": "execute_result"
    }
   ],
   "source": [
    "# 读数据\n",
    "import numpy as np\n",
    "import pandas as pd\n",
    "import matplotlib.pyplot as plt\n",
    "import re\n",
    "from subprocess import check_output\n",
    "import warnings\n",
    "warnings.filterwarnings(action='ignore')\n",
    "\n",
    "#查看数据目录下的文档\n",
    "print(check_output([\"ls\", \"./data\"]).decode(\"utf8\"))\n",
    "\n",
    "#读训练数据\n",
    "df_train = pd.read_csv(\"./data/train.csv\").fillna(\"\")\n",
    "df_train.head()"
   ]
  },
  {
   "cell_type": "code",
   "execution_count": 2,
   "metadata": {},
   "outputs": [
    {
     "name": "stdout",
     "output_type": "stream",
     "text": [
      "<class 'pandas.core.frame.DataFrame'>\n",
      "RangeIndex: 404290 entries, 0 to 404289\n",
      "Data columns (total 6 columns):\n",
      "id              404290 non-null int64\n",
      "qid1            404290 non-null int64\n",
      "qid2            404290 non-null int64\n",
      "question1       404290 non-null object\n",
      "question2       404290 non-null object\n",
      "is_duplicate    404290 non-null int64\n",
      "dtypes: int64(4), object(2)\n",
      "memory usage: 18.5+ MB\n"
     ]
    },
    {
     "data": {
      "text/plain": [
       "(404290, 6)"
      ]
     },
     "execution_count": 2,
     "metadata": {},
     "output_type": "execute_result"
    }
   ],
   "source": [
    "#查看训练数据的结构\n",
    "df_train.info()\n",
    "df_train.shape"
   ]
  },
  {
   "cell_type": "code",
   "execution_count": 3,
   "metadata": {},
   "outputs": [],
   "source": [
    "#读测试数据集\n",
    "df_test = pd.read_csv(\"./data/test.csv\").fillna(\"\")"
   ]
  },
  {
   "cell_type": "code",
   "execution_count": 4,
   "metadata": {},
   "outputs": [
    {
     "name": "stdout",
     "output_type": "stream",
     "text": [
      "is_duplicate\n",
      "0    255027\n",
      "1    149263\n",
      "Name: id, dtype: int64\n"
     ]
    },
    {
     "data": {
      "image/png": "[encoded data removed]",
      "text/plain": [
       "<Figure size 432x288 with 1 Axes>"
      ]
     },
     "metadata": {
      "needs_background": "light"
     },
     "output_type": "display_data"
    }
   ],
   "source": [
    "#查看训练数据中标签值的分布情况\n",
    "df_train.groupby(\"is_duplicate\")['id'].count().plot.bar()\n",
    "print(df_train.groupby(\"is_duplicate\")['id'].count())"
   ]
  },
  {
   "cell_type": "code",
   "execution_count": 12,
   "metadata": {},
   "outputs": [],
   "source": [
    "import string\n",
    "\n",
    "#clean 数据\n",
    "feats= ['question1','question2']\n",
    "train_value = df_train[feats].values\n",
    "test_value = df_test[feats].values\n",
    "\n",
    "abbr_dict = {\n",
    "    \"what's\": \"what is\",\n",
    "    \"what're\": \"what are\",\n",
    "    \"who's\": \"who is\",\n",
    "    \"who're\": \"who are\",\n",
    "    \"where's\": \"where is\",\n",
    "    \"where're\": \"where are\",\n",
    "    \"when's\": \"when is\",\n",
    "    \"when're\": \"when are\",\n",
    "    \"how's\": \"how is\",\n",
    "    \"how're\": \"how are\",\n",
    "    \"why's\": \"why is\",\n",
    "    \"why're\": \"why are\",\n",
    "\n",
    "    \"i'm\": \"i am\",\n",
    "    \"we're\": \"we are\",\n",
    "    \"you're\": \"you are\",\n",
    "    \"they're\": \"they are\",\n",
    "    \"it's\": \"it is\",\n",
    "    \"he's\": \"he is\",\n",
    "    \"she's\": \"she is\",\n",
    "    \"that's\": \"that is\",\n",
    "    \"there's\": \"there is\",\n",
    "    \"there're\": \"there are\",\n",
    "\n",
    "    \"i've\": \"i have\",\n",
    "    \"we've\": \"we have\",\n",
    "    \"you've\": \"you have\",\n",
    "    \"they've\": \"they have\",\n",
    "    \"who've\": \"who have\",\n",
    "    \"would've\": \"would have\",\n",
    "    \"not've\": \"not have\",\n",
    "\n",
    "    \"i'll\": \"i will\",\n",
    "    \"we'll\": \"we will\",\n",
    "    \"you'll\": \"you will\",\n",
    "    \"he'll\": \"he will\",\n",
    "    \"she'll\": \"she will\",\n",
    "    \"it'll\": \"it will\",\n",
    "    \"they'll\": \"they will\",\n",
    "\n",
    "    \"isn't\": \"is not\",\n",
    "    \"wasn't\": \"was not\",\n",
    "    \"aren't\": \"are not\",\n",
    "    \"weren't\": \"were not\",\n",
    "    \"can't\": \"can not\",\n",
    "    \"couldn't\": \"could not\",\n",
    "    \"don't\": \"do not\",\n",
    "    \"didn't\": \"did not\",\n",
    "    \"shouldn't\": \"should not\",\n",
    "    \"wouldn't\": \"would not\",\n",
    "    \"doesn't\": \"does not\",\n",
    "    \"haven't\": \"have not\",\n",
    "    \"hasn't\": \"has not\",\n",
    "    \"hadn't\": \"had not\",\n",
    "    \"won't\": \"will not\",\n",
    "    \"mustn't\": \"must not\",\n",
    "\n",
    "    \"e-mail\": \"email\",\n",
    "    \"imrovement\": 'improvement',\n",
    "    \"intial\": \"initial\",\n",
    "    \"motorolla\": \"motorola\",\n",
    "    \"programing\": \"programming\",\n",
    "    \"quikly\": \"quickly\",\n",
    "    \"demonitization\": \"demonetization\",\n",
    "    \"60k\": \"60000\",\n",
    "    \" 9 11 \":\"911\",\n",
    "    \" u s \":'american',\n",
    "    \"b g\":\"bg\",\n",
    "    \"e g\":'eg',\n",
    "}\n",
    "\n",
    "\n",
    "def prepprocessing(question):\n",
    "    #字符转成小写\n",
    "    question=str(question).lower()\n",
    "    #替换简写\n",
    "    for item in abbr_dict.items():\n",
    "        question=question.replace(item[0],item[1])\n",
    "    #去标点符号\n",
    "    question=question.translate(string.punctuation)\n",
    "    return question\n"
   ]
  },
  {
   "cell_type": "code",
   "execution_count": 7,
   "metadata": {},
   "outputs": [],
   "source": [
    "#清理数据\n",
    "clean_train_q1 = []\n",
    "clean_train_q2 = []\n",
    "for i in np.arange(len(train_value)):\n",
    "    clean_train_q1.append(prepprocessing(train_value[i][0]))\n",
    "    clean_train_q2.append(prepprocessing(train_value[i][1]))\n",
    "    \n",
    "clean_test_q1 = []\n",
    "clean_test_q2 = []\n",
    "for i in np.arange(len(test_value)):\n",
    "    clean_test_q1.append(prepprocessing(test_value[i][0]))\n",
    "    clean_test_q2.append(prepprocessing(test_value[i][1]))\n",
    "    \n",
    "train_clean = pd.DataFrame()\n",
    "test_clean = pd.DataFrame()\n",
    "\n",
    "train_clean['question1'] = clean_train_q1\n",
    "train_clean['question2'] = clean_train_q2\n",
    "\n",
    "test_clean['question1'] = clean_test_q1\n",
    "test_clean['question2'] = clean_test_q2\n",
    "\n",
    "#train_clean.to_csv('data/quora_train_clean.csv', index=False)\n",
    "#test_clean.to_csv('data/quora_test_clean.csv', index=False)"
   ]
  },
  {
   "cell_type": "code",
   "execution_count": 8,
   "metadata": {},
   "outputs": [],
   "source": [
    "#增加训练集的特征\n",
    "train_clean['len_q1'] = train_clean.question1.apply(lambda x: len(str(x)))\n",
    "train_clean['len_q2'] = train_clean.question2.apply(lambda x: len(str(x)))\n",
    "train_clean['len_word_q1'] = train_clean.question1.apply(lambda x: len(str(x).split()))\n",
    "train_clean['len_word_q2'] = train_clean.question2.apply(lambda x: len(str(x).split()))\n",
    "train_clean['common_word'] = train_clean.apply(lambda x: len(set(str(x['question1']).lower().split()).intersection(set(str(x['question2']).lower().split()))), axis=1)\n",
    "train_clean.head()\n",
    "\n",
    "test_clean['len_q1'] = test_clean.question1.apply(lambda x: len(str(x)))\n",
    "test_clean['len_q2'] = test_clean.question2.apply(lambda x: len(str(x)))\n",
    "test_clean['len_word_q1'] = test_clean.question1.apply(lambda x: len(str(x).split()))\n",
    "test_clean['len_word_q2'] = test_clean.question2.apply(lambda x: len(str(x).split()))\n",
    "#test_clean['common_word'] = test_clean.apply(lambda x: len(set(str(x['question1']).lower().split()).intersection(set(str(x['question2']).lower().split()))), axis=1)\n"
   ]
  },
  {
   "cell_type": "code",
   "execution_count": 9,
   "metadata": {},
   "outputs": [],
   "source": [
    "#train_clean.to_csv('data/quora_train_clean_base1.csv', index=False)\n",
    "#test_clean.to_csv('data/quora_test_clean_base1.csv', index=False)"
   ]
  },
  {
   "cell_type": "code",
   "execution_count": 1,
   "metadata": {},
   "outputs": [],
   "source": [
    "\n",
    "#再增加字符相似度的特征，使用Levenshtein Distance算法，使用fuzzywuzzy开源码\n",
    "#import pandas as pd\n",
    "#train_clean = pd.read_csv(\"./data/quora_train_clean_base1.csv\")\n",
    "from fuzzywuzzy import fuzz\n",
    "train_clean['fuzz_qratio'] = train_clean.apply(lambda x: fuzz.QRatio(str(x['question1']), str(x['question2'])), axis=1)\n",
    "train_clean['fuzz_WRatio'] = train_clean.apply(lambda x: fuzz.WRatio(str(x['question1']), str(x['question2'])), axis=1)\n",
    "train_clean['fuzz_partial_ratio'] = train_clean.apply(lambda x: fuzz.partial_ratio(str(x['question1']), str(x['question2'])), axis=1)\n",
    "train_clean['fuzz_partial_token_set_ratio'] = train_clean.apply(lambda x: fuzz.partial_token_set_ratio(str(x['question1']), str(x['question2'])), axis=1)\n",
    "train_clean['fuzz_partial_token_sort_ratio'] = train_clean.apply(lambda x: fuzz.partial_token_sort_ratio(str(x['question1']), str(x['question2'])), axis= 1)\n",
    "train_clean['fuzz_token_set_ratio'] = train_clean.apply(lambda x: fuzz.token_set_ratio(str(x['question1']), str(x['question2'])), axis = 1)\n",
    "train_clean['fuzz_token_sort_ratio'] = train_clean.apply(lambda x: fuzz.token_sort_ratio(str(x['question1']), str(x['question2'])), axis = 1)\n",
    "train_clean.head()\n",
    "\n",
    "test_clean['fuzz_qratio'] = test_clean.apply(lambda x: fuzz.QRatio(str(x['question1']), str(x['question2'])), axis=1)\n",
    "test_clean['fuzz_WRatio'] = test_clean.apply(lambda x: fuzz.WRatio(str(x['question1']), str(x['question2'])), axis=1)\n",
    "test_clean['fuzz_partial_ratio'] = test_clean.apply(lambda x: fuzz.partial_ratio(str(x['question1']), str(x['question2'])), axis=1)\n",
    "test_clean['fuzz_partial_token_set_ratio'] = test_clean.apply(lambda x: fuzz.partial_token_set_ratio(str(x['question1']), str(x['question2'])), axis=1)\n",
    "test_clean['fuzz_partial_token_sort_ratio'] = test_clean.apply(lambda x: fuzz.partial_token_sort_ratio(str(x['question1']), str(x['question2'])), axis= 1)\n",
    "test_clean['fuzz_token_set_ratio'] = test_clean.apply(lambda x: fuzz.token_set_ratio(str(x['question1']), str(x['question2'])), axis = 1)\n",
    "test_clean['fuzz_token_sort_ratio'] = test_clean.apply(lambda x: fuzz.token_sort_ratio(str(x['question1']), str(x['question2'])), axis = 1)\n",
    "\n",
    "#train_clean.to_csv('data/quora_train_clean_base_feature.csv', index = False)\n",
    "#test_clean.to_csv('data/quora_test_clean_base_feature.csv', index=False)"
   ]
  },
  {
   "cell_type": "code",
   "execution_count": 3,
   "metadata": {},
   "outputs": [],
   "source": [
    "#检查分词后，是否有些只是单个字母\n",
    "def is_all_char(data):\n",
    "    for index in range(len(data)):\n",
    "        if len(data[index]) > 1:\n",
    "            return False\n",
    "    return True"
   ]
  },
  {
   "cell_type": "code",
   "execution_count": null,
   "metadata": {},
   "outputs": [],
   "source": []
  },
  {
   "cell_type": "code",
   "execution_count": null,
   "metadata": {},
   "outputs": [],
   "source": [
    "#增加tf-idf特征\n",
    "import numpy as np\n",
    "import pandas as pd\n",
    "from sklearn.feature_extraction.text import TfidfVectorizer\n",
    "from sklearn.decomposition import TruncatedSVD\n",
    "import re\n",
    "\n",
    "pattern = re.compile(r'\\b[a-zA-Z]+\\b')\n",
    "tfid = TfidfVectorizer(analyzer='word')\n",
    "svd = TruncatedSVD(random_state = 42)\n",
    "\n",
    "\n",
    "def tfid_trans(data):\n",
    "    question1_tfid = []\n",
    "    question2_tfid = []\n",
    "    question12_tfid = []\n",
    "    question1_svd = []\n",
    "    question2_svd = []\n",
    "    question1_2_svd = []\n",
    "    question12_svd = []\n",
    "  \n",
    "    for row in range(len(data)):\n",
    "        q1 = []\n",
    "        q2 = []\n",
    "        q12 = []\n",
    "       \n",
    "        r1 = pattern.findall(data.iloc[row]['question1'])\n",
    "        r2 = pattern.findall(data.iloc[row]['question2'])\n",
    "        r1_len = len(r1)\n",
    "        r2_len = len(r2)\n",
    "        \n",
    "        if (r1_len == 0 or r2_len == 0) or is_all_char(r1) or is_all_char(r2):                                                            \n",
    "            question1_tfid.append([0])\n",
    "            question2_tfid.append([0])\n",
    "            question12_tfid.append([0])\n",
    "            question1_svd.append([0])\n",
    "            question2_svd.append([0])\n",
    "            question1_2_svd.append([0])\n",
    "            question12_svd.append([0])\n",
    "        else:\n",
    "            q1.append(data.iloc[row]['question1'])\n",
    "            q2.append(data.iloc[row]['question2'])\n",
    "            q12.append(data.iloc[row]['question1'])\n",
    "            q12.append(data.iloc[row]['question2'])\n",
    "\n",
    "            x1 = tfid.fit_transform(q1)\n",
    "            x2 = tfid.fit_transform(q2)\n",
    "            x12 = tfid.fit_transform(q12)\n",
    "            question1_tfid.append(x1.toarray())\n",
    "            question2_tfid .append(x2.toarray())\n",
    "            question12_tfid.append(x12.toarray())\n",
    "           \n",
    "            x1_svd = svd.fit_transform(x1.toarray())\n",
    "            x2_svd = svd.fit_transform(x2.toarray())\n",
    "            x1_2_svd = svd.fit_transform(np.hstack((x1.toarray(),x2.toarray())))\n",
    "            x12_svd = svd.fit_transform(x12.toarray())\n",
    "\n",
    "            question1_svd .append(x1_svd)\n",
    "            question2_svd .append(x2_svd)\n",
    "            question1_2_svd.append(x1_2_svd)\n",
    "            question12_svd.append(x12_svd)\n",
    "    \n",
    "    data['q1tfid'] = question1_tfid\n",
    "    data['q2tfid'] = question2_tfid\n",
    "    data['q12tfid'] = question12_tfid\n",
    "    data['q1svd'] = question1_svd\n",
    "    data['q2svd'] = question2_svd\n",
    "    data['q1_2svd'] = question1_2_svd\n",
    "    data['q12svd'] = question12_svd\n",
    "\n",
    "\n",
    "\n",
    "fid_trans(train_clean.iloc[0:2])\n",
    "tfid_trans(train_clean)\n",
    "#tfid_trans(test_clean)\n",
    "\n",
    "train_clean.to_csv('data/quora_train_clean_base_tfid_feature.csv', index=False)\n",
    "#test_clean.to_csv('data/quora_test_clean_base_tfid_feature.csv', index=False)\\\n",
    "\n",
    "\n",
    "print(train_clean.iloc[0])\n",
    "print(max(train_clean['len_word_q1']))\n",
    "print(max(train_clean['len_word_q2']))\n",
    "#test_data = copy.deepcopy(train_clean)\n",
    "\n",
    "def strToarry(data):\n",
    "    num_pattern = re.compile(r'\\d+\\.?\\d*')\n",
    "    result = []\n",
    "    print(len(data))\n",
    "    for index in range(len(data)):\n",
    "        X = np.array(num_pattern.findall(data.iloc[index])).reshape(1,-1)\n",
    "        result.append(X)\n",
    "    return result\n",
    "\n",
    "def extend_array(data):\n",
    "    data_row = data.shape[0]\n",
    "    data_col = data.shape[1]\n",
    "    diff_col = 250 - data_col\n",
    "    new_col = np.zeros((data_row, diff_col))\n",
    "    data = np.c_[data, new_col]\n",
    "    return data"
   ]
  },
  {
   "cell_type": "code",
   "execution_count": 41,
   "metadata": {},
   "outputs": [],
   "source": []
  },
  {
   "cell_type": "code",
   "execution_count": null,
   "metadata": {},
   "outputs": [],
   "source": []
  },
  {
   "cell_type": "code",
   "execution_count": 1,
   "metadata": {},
   "outputs": [],
   "source": [
    "#word2Vec 特征\n",
    "import gensim\n",
    "from nltk.corpus import stopwords\n",
    "from nltk import word_tokenize\n",
    "from tqdm import tqdm\n",
    "from scipy.stats import skew, kurtosis\n",
    "from scipy.spatial.distance import cosine, cityblock, jaccard, canberra, euclidean, minkowski, braycurtis\n",
    "import nltk\n",
    "#nltk.download('stopwords')\n",
    "#nltk.download('punkt')\n",
    "stop_words = stopwords.words('english')\n",
    "\n",
    "def wmd(s1, s2):\n",
    "    s1 = str(s1).lower().split()\n",
    "    s2 = str(s2).lower().split()\n",
    "    stop_words = stopwords.words('english')\n",
    "    s1 = [w for w in s1 if w not in stop_words]\n",
    "    s2 = [w for w in s2 if w not in stop_words]\n",
    "    return model.wmdistance(s1, s2)\n",
    "\n",
    "\n",
    "def norm_wmd(s1, s2):\n",
    "    s1 = str(s1).lower().split()\n",
    "    s2 = str(s2).lower().split()\n",
    "    stop_words = stopwords.words('english')\n",
    "    s1 = [w for w in s1 if w not in stop_words]\n",
    "    s2 = [w for w in s2 if w not in stop_words]\n",
    "    return norm_model.wmdistance(s1, s2)\n",
    "\n",
    "\n",
    "def sent2vec(s):\n",
    "    words = str(s).lower()\n",
    "    words = word_tokenize(words)\n",
    "    words = [w for w in words if not w in stop_words]\n",
    "    words = [w for w in words if w.isalpha()]\n",
    "    M = []\n",
    "    for w in words:\n",
    "        try:\n",
    "            M.append(model[w])\n",
    "        except:\n",
    "            continue\n",
    "    M = np.array(M)\n",
    "    v = M.sum(axis=0)\n",
    "    return v / np.sqrt((v ** 2).sum())"
   ]
  },
  {
   "cell_type": "code",
   "execution_count": 2,
   "metadata": {},
   "outputs": [],
   "source": [
    "#提取word2Vec特征\n",
    "def getWord2Vec(data):\n",
    "    model = gensim.models.KeyedVectors.load_word2vec_format('GoogleNews-vectors-negative300.bin.gz', binary=True)\n",
    "    data['wmd'] = data.apply(lambda x: wmd(x['question1'], x['question2']), axis=1)\n",
    "\n",
    "    norm_model = gensim.models.KeyedVectors.load_word2vec_format('GoogleNews-vectors-negative300.bin.gz', binary=True)\n",
    "    norm_model.init_sims(replace=True)\n",
    "    data['norm_wmd'] = data.apply(lambda x: norm_wmd(x['question1'], x['question2']), axis=1)\n",
    "\n",
    "    question1_vectors = np.zeros((data.shape[0], 300))\n",
    "    error_count = 0\n",
    "\n",
    "    for i, q in tqdm(enumerate(data.question1.values)):\n",
    "        question1_vectors[i, :] = sent2vec(q)\n",
    "\n",
    "    question2_vectors  = np.zeros((data.shape[0], 300))\n",
    "    for i, q in tqdm(enumerate(data.question2.values)):\n",
    "        question2_vectors[i, :] = sent2vec(q)\n",
    "\n",
    "    data['cosine_distance'] = [cosine(x, y) for (x, y) in zip(np.nan_to_num(question1_vectors),\n",
    "                                                              np.nan_to_num(question2_vectors))]\n",
    "\n",
    "    data['cityblock_distance'] = [cityblock(x, y) for (x, y) in zip(np.nan_to_num(question1_vectors),\n",
    "                                                              np.nan_to_num(question2_vectors))]\n",
    "\n",
    "    data['jaccard_distance'] = [jaccard(x, y) for (x, y) in zip(np.nan_to_num(question1_vectors),\n",
    "                                                              np.nan_to_num(question2_vectors))]\n",
    "\n",
    "    data['canberra_distance'] = [canberra(x, y) for (x, y) in zip(np.nan_to_num(question1_vectors),\n",
    "                                                              np.nan_to_num(question2_vectors))]\n",
    "\n",
    "    data['euclidean_distance'] = [euclidean(x, y) for (x, y) in zip(np.nan_to_num(question1_vectors),\n",
    "                                                              np.nan_to_num(question2_vectors))]\n",
    "\n",
    "    data['minkowski_distance'] = [minkowski(x, y, 3) for (x, y) in zip(np.nan_to_num(question1_vectors),\n",
    "                                                              np.nan_to_num(question2_vectors))]\n",
    "\n",
    "    data['braycurtis_distance'] = [braycurtis(x, y) for (x, y) in zip(np.nan_to_num(question1_vectors),\n",
    "                                                              np.nan_to_num(question2_vectors))]\n",
    "\n",
    "    data['skew_q1vec'] = [skew(x) for x in np.nan_to_num(question1_vectors)]\n",
    "    data['skew_q2vec'] = [skew(x) for x in np.nan_to_num(question2_vectors)]\n",
    "    data['kur_q1vec'] = [kurtosis(x) for x in np.nan_to_num(question1_vectors)]\n",
    "    data['kur_q2vec'] = [kurtosis(x) for x in np.nan_to_num(question2_vectors)]\n",
    "\n",
    "getWord2Vec(train_clean)\n",
    "getWord2Vec(test_clean)\n",
    "train_clean.to_csv('data/quora_train_clean_feature_all.csv')\n",
    "test_clean.to_csv('data/quora_test_clean_feature_except_tfid.csv')\n"
   ]
  },
  {
   "cell_type": "code",
   "execution_count": 7,
   "metadata": {},
   "outputs": [],
   "source": [
    "#定义画图的函数\n",
    "import matplotlib.pyplot as pl\n",
    "\n",
    "def feature_plot(importances, X_train, y_train):\n",
    "    \n",
    "    # Display the five most important features\n",
    "    indices = np.argsort(importances)[::-1]\n",
    "    columns = X_train.columns.values[indices[:5]]\n",
    "    values = importances[indices][:5]\n",
    "\n",
    "    # Creat the plot\n",
    "    fig = pl.figure(figsize = (9,5))\n",
    "    pl.title(\"Normalized Weights for First Five Most Predictive Features\", fontsize = 16)\n",
    "    rects = pl.bar(np.arange(5), values, width = 0.6, align=\"center\", color = '#00A000', \\\n",
    "                label = \"Feature Weight\")\n",
    "    \n",
    "    # make bar chart higher to fit the text label\n",
    "    axes = pl.gca()\n",
    "    axes.set_ylim([0, np.max(values) * 1.1])\n",
    "\n",
    "    # add text label on each bar\n",
    "    delta = np.max(values) * 0.02\n",
    "    \n",
    "    for rect in rects:\n",
    "        height = rect.get_height()\n",
    "        pl.text(rect.get_x() + rect.get_width()/2., \n",
    "                height + delta, \n",
    "                '%.2f' % height,\n",
    "                ha='center', \n",
    "                va='bottom')\n",
    "    \n",
    "    # Detect if xlabels are too long\n",
    "    rotation = 0 \n",
    "    for i in columns:\n",
    "        if len(i) > 20: \n",
    "            rotation = 10 # If one is longer than 20 than rotate 10 degrees \n",
    "            break\n",
    "    pl.xticks(np.arange(5), columns, rotation = rotation)\n",
    "    pl.xlim((-0.5, 4.5))\n",
    "    pl.ylabel(\"Weight\", fontsize = 12)\n",
    "    pl.xlabel(\"Feature\", fontsize = 12)\n",
    "    \n",
    "    pl.legend(loc = 'upper center')\n",
    "    pl.tight_layout()\n",
    "    pl.show() "
   ]
  },
  {
   "cell_type": "code",
   "execution_count": null,
   "metadata": {},
   "outputs": [],
   "source": []
  },
  {
   "cell_type": "code",
   "execution_count": null,
   "metadata": {},
   "outputs": [],
   "source": [
    "train_data = train_clean.iloc[:,4:]\n",
    "train_y_data = df_train.loc[:,['is_duplicate']]\n",
    "train_data = train_data.fillna(0)\n",
    "#去掉tfid特征\n",
    "del train_data['q1tfid']\n",
    "del train_data['q2tfid']\n",
    "del train_data['q12tfid']\n",
    "del train_data['q1svd']\n",
    "del train_data['q2svd']\n",
    "del train_data['q1_2svd']\n",
    "del train_data['q12svd']"
   ]
  },
  {
   "cell_type": "code",
   "execution_count": 12,
   "metadata": {},
   "outputs": [
    {
     "name": "stdout",
     "output_type": "stream",
     "text": [
      "RandomForestClassifier(bootstrap=True, class_weight=None, criterion='gini',\n",
      "            max_depth=None, max_features='auto', max_leaf_nodes=None,\n",
      "            min_impurity_decrease=0.0, min_impurity_split=None,\n",
      "            min_samples_leaf=1, min_samples_split=2,\n",
      "            min_weight_fraction_leaf=0.0, n_estimators=10, n_jobs=None,\n",
      "            oob_score=False, random_state=42, verbose=0, warm_start=False)\n",
      "train score 0.14\n",
      "validation score 0.70\n"
     ]
    },
    {
     "data": {
      "image/png": "[encoded data removed]",
      "text/plain": [
       "<Figure size 648x360 with 1 Axes>"
      ]
     },
     "metadata": {
      "needs_background": "light"
     },
     "output_type": "display_data"
    }
   ],
   "source": [
    "#随机森林分类\n",
    "from sklearn.ensemble import RandomForestClassifier\n",
    "from sklearn.model_selection import train_test_split\n",
    "from sklearn.metrics import log_loss    \n",
    "\n",
    "X_train, X_val, y_train, y_val = train_test_split(train_data, train_y_data, test_size = 0.2, random_state = 42)\n",
    "\n",
    "clf = RandomForestClassifier(random_state=42)\n",
    "clf.fit(X_train, y_train)\n",
    "predict_train = clf.predict_proba(X_train)\n",
    "predict_val = clf.predict_proba(X_val)\n",
    "\n",
    "train_score = log_loss(y_train, predict_train)\n",
    "val_score = log_loss(y_val, predict_val)\n",
    "\n",
    "print(clf)\n",
    "print('train score %.2f' % train_score)\n",
    "print('validation score %.2f' % val_score)\n",
    "\n",
    "#画图 学习曲线，重要特征，训练及val中的分数，还有test数据的分数图. 选择模型图片\n",
    "#主要特征\n",
    "importances = clf.feature_importances_\n",
    "\n",
    "# 绘图\n",
    "feature_plot(importances, X_train, y_train)"
   ]
  },
  {
   "cell_type": "code",
   "execution_count": 142,
   "metadata": {},
   "outputs": [],
   "source": []
  },
  {
   "cell_type": "code",
   "execution_count": 13,
   "metadata": {},
   "outputs": [],
   "source": [
    "#画学习曲线\n",
    "import matplotlib.pyplot as plt\n",
    "from sklearn.model_selection import learning_curve\n",
    "\n",
    "def draw_learning_curves(X, y, estimator, num_trainings):\n",
    "    train_sizes, train_scores, test_scores = learning_curve(\n",
    "        estimator, X, y, cv=None, n_jobs=1, train_sizes=np.linspace(.1, 1.0, num_trainings))\n",
    "\n",
    "    train_scores_mean = np.mean(train_scores, axis=1)\n",
    "    train_scores_std = np.std(train_scores, axis=1)\n",
    "    test_scores_mean = np.mean(test_scores, axis=1)\n",
    "    test_scores_std = np.std(test_scores, axis=1)\n",
    "\n",
    "    plt.grid()\n",
    "\n",
    "    plt.title(\"Learning Curves\")\n",
    "    plt.xlabel(\"Training examples\")\n",
    "    plt.ylabel(\"Score\")\n",
    "\n",
    "    plt.plot(train_scores_mean, 'o-', color=\"g\",\n",
    "             label=\"Training score\")\n",
    "    plt.plot(test_scores_mean, 'o-', color=\"y\",\n",
    "             label=\"Cross-validation score\")\n",
    "\n",
    "\n",
    "    plt.legend(loc=\"best\")\n",
    "\n",
    "    plt.show()"
   ]
  },
  {
   "cell_type": "code",
   "execution_count": 14,
   "metadata": {},
   "outputs": [
    {
     "data": {
      "image/png": "[encoded data removed]",
      "text/plain": [
       "<Figure size 432x288 with 1 Axes>"
      ]
     },
     "metadata": {
      "needs_background": "light"
     },
     "output_type": "display_data"
    }
   ],
   "source": [
    "draw_learning_curves(X_train, y_train, clf, 100)"
   ]
  },
  {
   "cell_type": "code",
   "execution_count": null,
   "metadata": {},
   "outputs": [],
   "source": [
    "#模型改进\n",
    "from sklearn.metrics import make_scorer\n",
    "from sklearn.model_selection import GridSearchCV\n",
    "\n",
    "clf_select = RandomForestClassifier(random_state=42)\n",
    "\n",
    "parameters = {'max_depth':[4, 5,6,7], 'min_samples_split':[6,4,2], 'min_samples_leaf':[4,3,2,1], 'n_estimators':[40,60,100,150]}\n",
    "\n",
    "# TODO：创建一个fbeta_score打分对象\n",
    "scorer = make_scorer(log_loss)\n",
    "\n",
    "# TODO：在分类器上使用网格搜索，使用'scorer'作为评价函数\n",
    "grid_obj = GridSearchCV(clf_select, parameters, scoring=scorer)\n",
    "\n",
    "# TODO：用训练数据拟合网格搜索对象并找到最佳参数\n",
    "grid_obj.fit(X_train, y_train)\n",
    "# 得到estimator\n",
    "best_clf = grid_obj.best_estimator_"
   ]
  },
  {
   "cell_type": "code",
   "execution_count": 15,
   "metadata": {},
   "outputs": [
    {
     "name": "stdout",
     "output_type": "stream",
     "text": [
      "train score 0.52\n",
      "validation score 0.53\n"
     ]
    }
   ],
   "source": [
    "from sklearn.externals import joblib\n",
    "\n",
    "joblib.dump(best_clf, './best_random_forest_model.pkl') \n",
    "b_train = best_clf.predict_proba(X_train)\n",
    "b_val = best_clf.predict_proba(X_val)\n",
    "\n",
    "b_train_score = log_loss(y_train, b_train)\n",
    "b_val_score = log_loss(y_val, b_val)\n",
    "\n",
    "print('train score %.2f' % b_train_score)\n",
    "print('validation score %.2f' % b_val_score)\n"
   ]
  },
  {
   "cell_type": "code",
   "execution_count": 81,
   "metadata": {
    "collapsed": true
   },
   "outputs": [
    {
     "name": "stdout",
     "output_type": "stream",
     "text": [
      "RandomForestClassifier(bootstrap=True, class_weight=None, criterion='gini',\n",
      "            max_depth=4, max_features='auto', max_leaf_nodes=None,\n",
      "            min_impurity_decrease=0.0, min_impurity_split=None,\n",
      "            min_samples_leaf=2, min_samples_split=4,\n",
      "            min_weight_fraction_leaf=0.0, n_estimators=60, n_jobs=None,\n",
      "            oob_score=False, random_state=42, verbose=0, warm_start=False)\n",
      "Unnamed: 0                                                                  404290\n",
      "question1                        how does the surface pro himself 4 compare wit...\n",
      "question2                        why did microsoft choose core m3 and not core ...\n",
      "is_duplicate                                                                   NaN\n",
      "len_q1                                                                          57\n",
      "len_q2                                                                          68\n",
      "len_word_q1                                                                     11\n",
      "len_word_q2                                                                     14\n",
      "common_word                                                                      2\n",
      "fuzz_qratio                                                                     37\n",
      "fuzz_WRatio                                                                     51\n",
      "fuzz_partial_ratio                                                              45\n",
      "fuzz_partial_token_set_ratio                                                   100\n",
      "fuzz_partial_token_sort_ratio                                                   56\n",
      "fuzz_token_set_ratio                                                            54\n",
      "fuzz_token_sort_ratio                                                           50\n",
      "wmd                                                                            NaN\n",
      "norm_wmd                                                                       NaN\n",
      "cosine_distance                                                           0.395452\n",
      "cityblock_distance                                                         12.0067\n",
      "jaccard_distance                                                                 1\n",
      "canberra_distance                                                          164.254\n",
      "euclidean_distance                                                        0.889327\n",
      "minkowski_distance                                                        0.407153\n",
      "braycurtis_distance                                                       0.483565\n",
      "skew_q1vec                                                               0.0459901\n",
      "skew_q2vec                                                              0.00995794\n",
      "kur_q1vec                                                                0.0399382\n",
      "kur_q2vec                                                                -0.144866\n",
      "Name: 404290, dtype: object\n"
     ]
    }
   ],
   "source": [
    "print(best_clf)"
   ]
  },
  {
   "cell_type": "code",
   "execution_count": null,
   "metadata": {},
   "outputs": [],
   "source": [
    "test_data = test_clean.iloc[:,4:]\n",
    "test_data = test_data.fillna(0)\n",
    "test_predict = best_clf.predict_proba(test_data)\n",
    "df_test['is_duplicate'] = test_predict[:,1]\n",
    "df_test.to_csv('data/test_final_result.csv')"
   ]
  },
  {
   "cell_type": "code",
   "execution_count": 106,
   "metadata": {},
   "outputs": [
    {
     "name": "stdout",
     "output_type": "stream",
     "text": [
      "0.495866962051953\n"
     ]
    }
   ],
   "source": [
    "print(df_test.iloc[1]['is_duplicate'])"
   ]
  },
  {
   "cell_type": "code",
   "execution_count": 16,
   "metadata": {},
   "outputs": [
    {
     "data": {
      "image/png": "[encoded data removed]",
      "text/plain": [
       "<Figure size 432x288 with 1 Axes>"
      ]
     },
     "metadata": {
      "needs_background": "light"
     },
     "output_type": "display_data"
    }
   ],
   "source": [
    "draw_learning_curves(X_train, y_train, best_clf, 100)"
   ]
  },
  {
   "cell_type": "code",
   "execution_count": 112,
   "metadata": {},
   "outputs": [
    {
     "name": "stdout",
     "output_type": "stream",
     "text": [
      "len_q1                             int64\n",
      "len_q2                             int64\n",
      "len_word_q1                        int64\n",
      "len_word_q2                        int64\n",
      "common_word                        int64\n",
      "fuzz_qratio                        int64\n",
      "fuzz_WRatio                        int64\n",
      "fuzz_partial_ratio                 int64\n",
      "fuzz_partial_token_set_ratio       int64\n",
      "fuzz_partial_token_sort_ratio      int64\n",
      "fuzz_token_set_ratio               int64\n",
      "fuzz_token_sort_ratio              int64\n",
      "wmd                              float64\n",
      "norm_wmd                         float64\n",
      "cosine_distance                  float64\n",
      "cityblock_distance               float64\n",
      "jaccard_distance                 float64\n",
      "canberra_distance                float64\n",
      "euclidean_distance               float64\n",
      "minkowski_distance               float64\n",
      "braycurtis_distance              float64\n",
      "skew_q1vec                       float64\n",
      "skew_q2vec                       float64\n",
      "kur_q1vec                        float64\n",
      "dtype: object\n"
     ]
    },
    {
     "data": {
      "image/png": "[encoded data removed]",
      "text/plain": [
       "<Figure size 648x360 with 1 Axes>"
      ]
     },
     "metadata": {
      "needs_background": "light"
     },
     "output_type": "display_data"
    }
   ],
   "source": [
    "print(X_train.dtypes)\n",
    "feature_plot(best_clf.feature_importances_, X_train, y_train)"
   ]
  },
  {
   "cell_type": "code",
   "execution_count": 69,
   "metadata": {},
   "outputs": [
    {
     "data": {
      "text/plain": [
       "RandomForestClassifier(bootstrap=True, class_weight=None, criterion='gini',\n",
       "            max_depth=None, max_features='auto', max_leaf_nodes=None,\n",
       "            min_impurity_decrease=0.0, min_impurity_split=None,\n",
       "            min_samples_leaf=1, min_samples_split=2,\n",
       "            min_weight_fraction_leaf=0.0, n_estimators=10, n_jobs=None,\n",
       "            oob_score=False, random_state=None, verbose=0,\n",
       "            warm_start=False)"
      ]
     },
     "execution_count": 69,
     "metadata": {},
     "output_type": "execute_result"
    }
   ],
   "source": [
    "#增加tfidf特征\n",
    "#将两个问题合并起来\n",
    "train_q12 = []\n",
    "for i in range(len(train_clean)):\n",
    "    train_q12.append(train_clean.iloc[i]['question1'] + train_clean.iloc[i]['question2'])\n",
    "\n",
    "#取其前500个特征\n",
    "tfid = TfidfVectorizer(analyzer='word', stop_words='english', max_features = 500)\n",
    "X12 = tfid.fit_transform(train_q12)\n",
    "\n",
    "#取其前200个特征\n",
    "tfid_200 = TfidfVectorizer(analyzer='word', stop_words='english', max_features = 200)\n",
    "X12_200 = tfid_200.fit_transform(train_q12)\n",
    "\n",
    "#使用随机森林模型，分别对500特征，得到相应的预测概率，作为新的特征\n",
    "clf_tfid_12 = RandomForestClassifier()\n",
    "clf_tfid_12.fit(X12.toarray(), train_y_data)\n",
    "p_x = clf_tfid_12.predict_proba(X12.toarray())\n",
    "train_data['q12_tfid_500_predict'] = p_x[:,1]\n",
    "\n",
    "#训练200特征\n",
    "clf_tfid_12_200 = RandomForestClassifier()\n",
    "clf_tfid_12_200.fit(X12_200.toarray(), train_y_data)\n",
    "p_x_200 = clf_tfid_12_200.predict_proba(X12_200.toarray())\n",
    "train_data['q12_tfid_200_predict'] = p_x_200[:,1]"
   ]
  },
  {
   "cell_type": "code",
   "execution_count": 71,
   "metadata": {},
   "outputs": [
    {
     "data": {
      "text/plain": [
       "RandomForestClassifier(bootstrap=True, class_weight=None, criterion='gini',\n",
       "            max_depth=None, max_features='auto', max_leaf_nodes=None,\n",
       "            min_impurity_decrease=0.0, min_impurity_split=None,\n",
       "            min_samples_leaf=1, min_samples_split=2,\n",
       "            min_weight_fraction_leaf=0.0, n_estimators=10, n_jobs=None,\n",
       "            oob_score=False, random_state=None, verbose=0,\n",
       "            warm_start=False)"
      ]
     },
     "execution_count": 71,
     "metadata": {},
     "output_type": "execute_result"
    }
   ],
   "source": [
    "#分别对两个问题提取tfidf特征\n",
    "train_q1=[]\n",
    "for i in range(len(train_clean)):\n",
    "    train_q1.append(train_clean.iloc[i]['question1'])\n",
    "train_q2=[]\n",
    "for i in range(len(train_clean)):\n",
    "    train_q2.append(train_clean.iloc[i]['question2'])\n",
    "\n",
    "X1_200 = tfid_200.fit_transform(train_q1)\n",
    "\n",
    "X2_200 = tfid_200.fit_transform(train_q2)\n",
    "\n",
    "x1_2_200 = np.concatenate((X1_200.toarray(),X2_200.toarray()),axis=1)\n",
    "clf_tfid_1_2_200 = RandomForestClassifier()\n",
    "clf_tfid_1_2_200.fit(x1_2_200, train_y_data)\n",
    "p_x_1_2_200 = clf_tfid_1_2_200.predict_proba(x1_2_200)\n",
    "\n",
    "train_data['q1_2_tfid_200_predict'] = p_x_1_2_200[:,1]"
   ]
  },
  {
   "cell_type": "code",
   "execution_count": 55,
   "metadata": {},
   "outputs": [],
   "source": [
    "from sklearn.decomposition import NMF\n",
    "#从tfidf特征中获取nmf\n",
    "model = NMF(n_components = 200, init = 'nndsvd')\n",
    "q1_nmf = model.fit_transform(X1_200)\n",
    "q2_nmf = model.fit_transform(X2_200)\n",
    "q12_nmf = model.fit_transform(X12_200)\n",
    "\n",
    "#训练nmf特征\n",
    "nmf1_2_200 = np.concatenate((q1_nmf,q2_nmf),axis=1)\n",
    "clf_nmf_1_2_200 = RandomForestClassifier()\n",
    "clf_nmf_1_2_200.fit(nmf1_2_200, train_y_data)\n",
    "p_nmf_1_2_200 = clf_nmf_1_2_200.predict_proba(nmf1_2_200)\n",
    "train_data['q1_2_nmf_200_predict'] = p_nmf_1_2_200[:,1]\n",
    "\n",
    "clf_nmf_12_200 = RandomForestClassifier()\n",
    "clf_nmf_12_200.fit(q12_nmf, train_y_data)\n",
    "q12_nmf_200_predict = clf_nmf_12_200.predict_proba(q12_nmf)\n",
    "\n",
    "train_data['q12_nmf_200_predict'] = q12_nmf_200_predict[:,1]\n"
   ]
  },
  {
   "cell_type": "code",
   "execution_count": 58,
   "metadata": {},
   "outputs": [
    {
     "name": "stdout",
     "output_type": "stream",
     "text": [
      "[0]\tvalidation_0-logloss:0.563562\tvalidation_1-logloss:0.563379\n",
      "[1]\tvalidation_0-logloss:0.475186\tvalidation_1-logloss:0.476594\n",
      "[2]\tvalidation_0-logloss:0.412778\tvalidation_1-logloss:0.414723\n",
      "[3]\tvalidation_0-logloss:0.367192\tvalidation_1-logloss:0.368616\n",
      "[4]\tvalidation_0-logloss:0.332224\tvalidation_1-logloss:0.33364\n",
      "[5]\tvalidation_0-logloss:0.304273\tvalidation_1-logloss:0.306469\n",
      "[6]\tvalidation_0-logloss:0.283077\tvalidation_1-logloss:0.285288\n",
      "[7]\tvalidation_0-logloss:0.266263\tvalidation_1-logloss:0.268772\n",
      "[8]\tvalidation_0-logloss:0.252605\tvalidation_1-logloss:0.255686\n",
      "[9]\tvalidation_0-logloss:0.2418\tvalidation_1-logloss:0.24511\n",
      "[10]\tvalidation_0-logloss:0.233559\tvalidation_1-logloss:0.236636\n",
      "[11]\tvalidation_0-logloss:0.226198\tvalidation_1-logloss:0.229765\n",
      "[12]\tvalidation_0-logloss:0.22045\tvalidation_1-logloss:0.224065\n",
      "[13]\tvalidation_0-logloss:0.215674\tvalidation_1-logloss:0.219736\n",
      "[14]\tvalidation_0-logloss:0.211773\tvalidation_1-logloss:0.215927\n",
      "[15]\tvalidation_0-logloss:0.208811\tvalidation_1-logloss:0.212965\n",
      "[16]\tvalidation_0-logloss:0.206128\tvalidation_1-logloss:0.210389\n",
      "[17]\tvalidation_0-logloss:0.203933\tvalidation_1-logloss:0.208388\n",
      "[18]\tvalidation_0-logloss:0.202376\tvalidation_1-logloss:0.206613\n",
      "[19]\tvalidation_0-logloss:0.200437\tvalidation_1-logloss:0.205157\n",
      "[20]\tvalidation_0-logloss:0.199598\tvalidation_1-logloss:0.203832\n",
      "[21]\tvalidation_0-logloss:0.198008\tvalidation_1-logloss:0.202906\n",
      "[22]\tvalidation_0-logloss:0.197285\tvalidation_1-logloss:0.202157\n",
      "[23]\tvalidation_0-logloss:0.196777\tvalidation_1-logloss:0.201396\n",
      "[24]\tvalidation_0-logloss:0.195978\tvalidation_1-logloss:0.200405\n",
      "[25]\tvalidation_0-logloss:0.195288\tvalidation_1-logloss:0.199827\n",
      "[26]\tvalidation_0-logloss:0.194904\tvalidation_1-logloss:0.199342\n",
      "[27]\tvalidation_0-logloss:0.194128\tvalidation_1-logloss:0.199098\n",
      "[28]\tvalidation_0-logloss:0.193857\tvalidation_1-logloss:0.19874\n",
      "[29]\tvalidation_0-logloss:0.193585\tvalidation_1-logloss:0.198473\n",
      "[30]\tvalidation_0-logloss:0.193116\tvalidation_1-logloss:0.198104\n",
      "[31]\tvalidation_0-logloss:0.192852\tvalidation_1-logloss:0.197893\n",
      "[32]\tvalidation_0-logloss:0.192588\tvalidation_1-logloss:0.197636\n",
      "[33]\tvalidation_0-logloss:0.192245\tvalidation_1-logloss:0.19733\n",
      "[34]\tvalidation_0-logloss:0.191674\tvalidation_1-logloss:0.196826\n",
      "[35]\tvalidation_0-logloss:0.19113\tvalidation_1-logloss:0.196332\n",
      "[36]\tvalidation_0-logloss:0.190793\tvalidation_1-logloss:0.196053\n",
      "[37]\tvalidation_0-logloss:0.190264\tvalidation_1-logloss:0.195587\n",
      "[38]\tvalidation_0-logloss:0.190095\tvalidation_1-logloss:0.195434\n",
      "[39]\tvalidation_0-logloss:0.189869\tvalidation_1-logloss:0.195195\n",
      "[40]\tvalidation_0-logloss:0.189426\tvalidation_1-logloss:0.194822\n",
      "[41]\tvalidation_0-logloss:0.189172\tvalidation_1-logloss:0.194591\n",
      "[42]\tvalidation_0-logloss:0.188577\tvalidation_1-logloss:0.194101\n",
      "[43]\tvalidation_0-logloss:0.187503\tvalidation_1-logloss:0.193422\n",
      "[44]\tvalidation_0-logloss:0.187117\tvalidation_1-logloss:0.193133\n",
      "[45]\tvalidation_0-logloss:0.186991\tvalidation_1-logloss:0.193015\n",
      "[46]\tvalidation_0-logloss:0.186771\tvalidation_1-logloss:0.192849\n",
      "[47]\tvalidation_0-logloss:0.18632\tvalidation_1-logloss:0.192614\n",
      "[48]\tvalidation_0-logloss:0.186082\tvalidation_1-logloss:0.19248\n",
      "[49]\tvalidation_0-logloss:0.185691\tvalidation_1-logloss:0.19212\n",
      "[50]\tvalidation_0-logloss:0.185452\tvalidation_1-logloss:0.191952\n",
      "[51]\tvalidation_0-logloss:0.185241\tvalidation_1-logloss:0.191878\n",
      "[52]\tvalidation_0-logloss:0.184678\tvalidation_1-logloss:0.191519\n",
      "[53]\tvalidation_0-logloss:0.18454\tvalidation_1-logloss:0.191429\n",
      "[54]\tvalidation_0-logloss:0.184445\tvalidation_1-logloss:0.191364\n",
      "[55]\tvalidation_0-logloss:0.184075\tvalidation_1-logloss:0.191102\n",
      "[56]\tvalidation_0-logloss:0.183606\tvalidation_1-logloss:0.190735\n",
      "[57]\tvalidation_0-logloss:0.18341\tvalidation_1-logloss:0.190655\n",
      "[58]\tvalidation_0-logloss:0.183112\tvalidation_1-logloss:0.190493\n",
      "[59]\tvalidation_0-logloss:0.182738\tvalidation_1-logloss:0.190288\n",
      "[60]\tvalidation_0-logloss:0.182613\tvalidation_1-logloss:0.190198\n",
      "[61]\tvalidation_0-logloss:0.182471\tvalidation_1-logloss:0.190121\n",
      "[62]\tvalidation_0-logloss:0.18234\tvalidation_1-logloss:0.190079\n",
      "[63]\tvalidation_0-logloss:0.181705\tvalidation_1-logloss:0.189824\n",
      "[64]\tvalidation_0-logloss:0.181025\tvalidation_1-logloss:0.189609\n",
      "[65]\tvalidation_0-logloss:0.180717\tvalidation_1-logloss:0.18941\n",
      "[66]\tvalidation_0-logloss:0.180181\tvalidation_1-logloss:0.189149\n",
      "[67]\tvalidation_0-logloss:0.17979\tvalidation_1-logloss:0.188991\n",
      "[68]\tvalidation_0-logloss:0.179387\tvalidation_1-logloss:0.188764\n",
      "[69]\tvalidation_0-logloss:0.178899\tvalidation_1-logloss:0.188589\n",
      "[70]\tvalidation_0-logloss:0.178788\tvalidation_1-logloss:0.188508\n",
      "[71]\tvalidation_0-logloss:0.178701\tvalidation_1-logloss:0.18845\n",
      "[72]\tvalidation_0-logloss:0.178524\tvalidation_1-logloss:0.188388\n",
      "[73]\tvalidation_0-logloss:0.178062\tvalidation_1-logloss:0.188177\n",
      "[74]\tvalidation_0-logloss:0.177561\tvalidation_1-logloss:0.188077\n",
      "[75]\tvalidation_0-logloss:0.177345\tvalidation_1-logloss:0.187966\n",
      "[76]\tvalidation_0-logloss:0.177207\tvalidation_1-logloss:0.187896\n",
      "[77]\tvalidation_0-logloss:0.176914\tvalidation_1-logloss:0.187812\n",
      "[78]\tvalidation_0-logloss:0.176778\tvalidation_1-logloss:0.187755\n",
      "[79]\tvalidation_0-logloss:0.176526\tvalidation_1-logloss:0.187652\n",
      "[80]\tvalidation_0-logloss:0.176102\tvalidation_1-logloss:0.187461\n",
      "[81]\tvalidation_0-logloss:0.175635\tvalidation_1-logloss:0.187258\n",
      "[82]\tvalidation_0-logloss:0.175517\tvalidation_1-logloss:0.187203\n",
      "[83]\tvalidation_0-logloss:0.175221\tvalidation_1-logloss:0.187099\n",
      "[84]\tvalidation_0-logloss:0.17496\tvalidation_1-logloss:0.187006\n",
      "[85]\tvalidation_0-logloss:0.174909\tvalidation_1-logloss:0.186992\n",
      "[86]\tvalidation_0-logloss:0.17482\tvalidation_1-logloss:0.186962\n",
      "[87]\tvalidation_0-logloss:0.174706\tvalidation_1-logloss:0.186933\n",
      "[88]\tvalidation_0-logloss:0.174452\tvalidation_1-logloss:0.186853\n",
      "[89]\tvalidation_0-logloss:0.174013\tvalidation_1-logloss:0.186685\n",
      "[90]\tvalidation_0-logloss:0.173931\tvalidation_1-logloss:0.186641\n",
      "[91]\tvalidation_0-logloss:0.173735\tvalidation_1-logloss:0.186544\n",
      "[92]\tvalidation_0-logloss:0.173422\tvalidation_1-logloss:0.186341\n",
      "[93]\tvalidation_0-logloss:0.173414\tvalidation_1-logloss:0.186335\n",
      "[94]\tvalidation_0-logloss:0.172792\tvalidation_1-logloss:0.186161\n",
      "[95]\tvalidation_0-logloss:0.172556\tvalidation_1-logloss:0.186131\n",
      "[96]\tvalidation_0-logloss:0.172434\tvalidation_1-logloss:0.18605\n",
      "[97]\tvalidation_0-logloss:0.172161\tvalidation_1-logloss:0.185996\n",
      "[98]\tvalidation_0-logloss:0.171655\tvalidation_1-logloss:0.185887\n",
      "[99]\tvalidation_0-logloss:0.1714\tvalidation_1-logloss:0.185847\n"
     ]
    }
   ],
   "source": [
    "#xgboost训练\n",
    "from xgboost import XGBClassifier  \n",
    "from sklearn.model_selection import train_test_split\n",
    "from sklearn.metrics import log_loss    \n",
    "\n",
    "X_train, X_val, y_train, y_val = train_test_split(train_data, train_y_data, test_size = 0.2, random_state = 42)\n",
    "\n",
    "clf2 = XGBClassifier(max_depth = 7, learning_rate = 0.2, random_state=42)\n",
    "evl_set = [(X_train, y_train), (X_val, y_val)]\n",
    "clf2.fit(X_train, y_train, eval_metric=[\"logloss\"], eval_set = evl_set)\n",
    "results = clf2.evals_result()"
   ]
  },
  {
   "cell_type": "code",
   "execution_count": 59,
   "metadata": {
    "scrolled": true
   },
   "outputs": [
    {
     "data": {
      "image/png": "[encoded data removed]",
      "text/plain": [
       "<Figure size 432x288 with 1 Axes>"
      ]
     },
     "metadata": {
      "needs_background": "light"
     },
     "output_type": "display_data"
    }
   ],
   "source": [
    "#画图\n",
    "epochs = len(results['validation_0']['logloss'])\n",
    "x_axis = range(0, epochs)  \n",
    "\n",
    "# plot log loss  \n",
    "fig, ax = plt.subplots()  \n",
    "ax.plot(x_axis, results['validation_0']['logloss'], label='Train')  \n",
    "ax.plot(x_axis, results['validation_1']['logloss'], label='Test')  \n",
    "ax.legend()  \n",
    "plt.ylabel('Log Loss')  \n",
    "plt.title('XGBoost Log Loss')  \n",
    "plt.show()  "
   ]
  },
  {
   "cell_type": "code",
   "execution_count": 70,
   "metadata": {},
   "outputs": [],
   "source": [
    "from sklearn.externals import joblib\n",
    "\n",
    "#joblib.dump(clf2, './xgboost_model.pkl') \n",
    "#print(train_data.iloc[0])\n",
    "\n",
    "#增加tfidf特征\n",
    "#将两个问题合并起来\n",
    "test_q12 = []\n",
    "for i in range(len(test_clean)):\n",
    "    test_q12.append(str(test_clean.iloc[i]['question1']) + str(test_clean.iloc[i]['question2']))\n",
    "\n",
    "#取其前500个特征\n",
    "X12_test = tfid.fit_transform(test_q12)\n",
    "\n",
    "#取其前200个特征\n",
    "\n",
    "X12_200_test = tfid_200.fit_transform(test_q12)\n",
    "\n",
    "#使用随机森林模型，分别对500特征，得到相应的预测概率，作为新的特征\n",
    "p_x_test = clf_tfid_12.predict_proba(X12_test.toarray())\n",
    "test_data['q12_tfid_500_predict'] = p_x_test[:,1]\n",
    "\n",
    "#训练200特征\n",
    "p_x_200_test = clf_tfid_12_200.predict_proba(X12_200_test.toarray())\n",
    "test_data['q12_tfid_200_predict'] = p_x_200_test[:,1]"
   ]
  },
  {
   "cell_type": "code",
   "execution_count": null,
   "metadata": {},
   "outputs": [],
   "source": [
    "#分别对两个问题提取tfidf特征\n",
    "test_clean['question1'] = test_clean['question1'].fillna('')\n",
    "test_clean['question2'] = test_clean['question2'].fillna('')\n",
    "test_q1=[]\n",
    "for i in range(len(test_clean)):\n",
    "    test_q1.append(test_clean.iloc[i]['question1'])\n",
    "test_q2=[]\n",
    "for i in range(len(test_clean)):\n",
    "    test_q2.append(test_clean.iloc[i]['question2'])\n",
    "\n",
    "X1_200_test = tfid_200.fit_transform(test_q1)\n",
    "\n",
    "X2_200_test = tfid_200.fit_transform(test_q2)\n",
    "\n",
    "x1_2_200_test = np.concatenate((X1_200_test.toarray(),X2_200_test.toarray()),axis=1)\n",
    "p_x_1_2_200_test = clf_tfid_1_2_200.predict_proba(x1_2_200_test)\n",
    "test_data['q1_2_tfid_200_predict'] = p_x_1_2_200_test[:,1]"
   ]
  },
  {
   "cell_type": "code",
   "execution_count": null,
   "metadata": {},
   "outputs": [],
   "source": [
    "q1_nmf_test = model.fit_transform(X1_200_test)\n",
    "q2_nmf_test = model.fit_transform(X2_200_test)\n",
    "q12_nmf_test = model.fit_transform(X12_200_test)\n",
    "\n",
    "#训练nmf特征\n",
    "nmf1_2_200_test = np.concatenate((q1_nmf_test,q2_nmf_test),axis=1)\n",
    "p_nmf_1_2_200_test = clf_nmf_1_2_200.predict_proba(nmf1_2_200_test)\n",
    "test_data['q1_2_nmf_200_predict'] = p_nmf_1_2_200_test[:,1]\n",
    "\n",
    "q12_nmf_200_predict_test = clf_nmf_12_200.predict_proba(q12_nmf_test)\n",
    "\n",
    "test_data['q12_nmf_200_predict'] = q12_nmf_200_predict_test[:,1]\n"
   ]
  },
  {
   "cell_type": "code",
   "execution_count": null,
   "metadata": {},
   "outputs": [],
   "source": [
    "def adj(x,te=0.173,tr=0.369):\n",
    "    a=te/tr\n",
    "    b=(1-te)/(1-tr)\n",
    "    return a*x/(a*x+b*(1-x))\n",
    "\n",
    "#用训练好的xgboost 预测test数据\n",
    "test_predict = clf2.predict_proba(test_data)\n",
    "\n",
    "df_test['is_duplicate'] = test_predict[:,1]\n",
    "df_test.is_duplicate=df_test.is_duplicate.apply(adj)\n",
    "df_test.to_csv('./data/test_result.csv', index = False)"
   ]
  },
  {
   "cell_type": "code",
   "execution_count": null,
   "metadata": {},
   "outputs": [],
   "source": []
  },
  {
   "cell_type": "code",
   "execution_count": null,
   "metadata": {},
   "outputs": [],
   "source": []
  }
 ],
 "metadata": {
  "kernelspec": {
   "display_name": "Python 3",
   "language": "python",
   "name": "python3"
  }
 },
 "nbformat": 4,
 "nbformat_minor": 2
}
